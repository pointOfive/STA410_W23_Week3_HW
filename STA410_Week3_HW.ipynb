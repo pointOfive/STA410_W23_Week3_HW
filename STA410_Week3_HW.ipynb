{
 "cells": [
  {
   "cell_type": "markdown",
   "id": "c3aa0add",
   "metadata": {},
   "source": [
    "# STA410 Week 3 Programming Assignment (10 points)\n",
    "\n",
    "Welcome.\n",
    "\n",
    "## Rules\n",
    "\n",
    "\n",
    "0. **This is a paired or individual assignment.** Specific code solutions submitted for these assignments must be created either individually or in the context of a paired effort: ***group efforts of three or more are students are not allowed.*** Please seek homework partners in-person or on the course discussion board on piazza. **Paired students each separately submit their (common) work, including (agreeing) contribution of work statements for each problem.**\n",
    "  \n",
    "   > Students choosing to work individually must work in accordance with the [University Student Academic Integrity values](https://www.artsci.utoronto.ca/current/academic-advising-and-support/student-academic-integrity)  of \"honesty, trust, fairness, respect, responsibility and courage.\" Students working in pairs may share work without restriction within their pair, but must otherwise work in accordance with the [University Student Academic Integrity values](https://www.artsci.utoronto.ca/current/academic-advising-and-support/student-academic-integrity) noted above. ***Getting and sharing \"hints\" from other classmates is allowed; but, the eventual code creation work and submission must be your own individual or paired creation.***\n",
    "   \n",
    "   \n",
    "1. **Do not delete or replace cells**: this erases `cell ids` upon which automated code tests are based.\n",
    "\n",
    "    - ***If you accidentally delete a required cell*** try \"Edit > Undo Delete Cells\" in the notebook editor; otherwise, redownload the notebook (so it has the correct required `cells ids`) and repopulate it with your answers (assuming you don't overwrite them when you redownload the notebook).\n",
    "\n",
    "   - ***You may add cells for scratch work*** but if required answers are not submitted through the provided cells where the answers are requested your answers may not be marked.\n",
    "\n",
    "  > You may check if `cell ids` are present and working by running the following command in a cell \n",
    "  >\n",
    "  > `! grep '\"id\":' <path/to/notebook>.ipynb`\n",
    "  >\n",
    "  > and making sure the `cell ids` **do not change** when you save your notebook.\n",
    "  >\n",
    "  >> ***If you are working in any environment other than*** [UofT JupyterLab](https://jupyter.utoronto.ca/hub/user-redirect/git-pull?repo=https://github.com/pointOfive/sta410hw0&branch=master&urlpath=/lab/tree/sta410hw0), [UofT JupyterHub](https://jupyter.utoronto.ca/hub/user-redirect/git-pull?repo=https://github.com/pointOfive/sta410hw0&branch=master), or [Google Colab](https://colab.research.google.com/github/pointOfive/sta410hw0/blob/master/sta410hw0.ipynb), your system must meet the following versioning requirements \n",
    "   >>\n",
    "   >>   - [notebook format >=4.5](https://github.com/jupyterlab/jupyterlab/issues/9729) \n",
    "   >>   - jupyter [notebook](https://jupyter.org/install#jupyter-notebook) version [>=6.2](https://jupyter-notebook.readthedocs.io/en/stable/) for \"classic\" notebooks served by [jupyterhub](https://jupyterhub.readthedocs.io/en/stable/quickstart.html)\n",
    "   >>   - [jupyterlab](https://jupyter.org/install) version [>=3.0.13](https://github.com/jupyterlab/jupyterlab/releases/tag/v3.0.13) for \"jupyterlab\" notebooks  \n",
    "   >>    \n",
    "   >> otherwise `cell ids` will not be supported and you will not get any credit for your submitted homework.  \n",
    "      \n",
    "2. **No cells may have any runtime errors** because this causes subsequent automated code tests to fail and you will not get marks for tests which fail because of previous runtime errors. \n",
    "\n",
    "  - Run time errors include, e.g., unassigned variables, mismatched parentheses, and any code which does not work when the notebook cells are sequentially run, even if it was provided for you as part of the starter code. ***It is best to restart and re-run the cells in your notebook to ensure there are no runtime errors before submitting your work.***\n",
    "    \n",
    "  - The `try`-`except` block syntax catches runtime errors and transforms them into `exceptions` which will not cause subsequent automated code tests to fail.  \n",
    "\n",
    "\n",
    "3. **No jupyter shortcut commands** such as `! python script.py 10` or `%%timeit` may be included in the final submission as they will cause subsequent automated code tests to fail.\n",
    "\n",
    "  - ***Comment out ALL jupyter shortcut commands***, e.g., `# ! python script.py 10` or `# %%timeit` in submitted notebooks.\n",
    "\n",
    "\n",
    "4. **Python library imports are limited** to only libraries imported in the starter code and the [standard python modules](https://docs.python.org/3/py-modindex.html). Importing additional libraries will cause subsequent automated code tests to fail.\n",
    "\n",
    "  > Unless a problem instructs differently, you may use any functions available from the libraries imported in the starter code; otherwise, you are expected to create your own Python functionality based on the Python stdlib (standard libary, i.e., base Python and standard Python modules).\n",
    "\n",
    "\n",
    "5. You are welcome and encouraged to adapt code you find available online into your notebook; however, if you do so you must provide a link to the utilized resource. ***If failure to cite such references is identified and confirmed, your mark will be immediately reduced to 0.***  "
   ]
  },
  {
   "cell_type": "code",
   "execution_count": 2,
   "id": "2e256d28",
   "metadata": {
    "deletable": false,
    "editable": false
   },
   "outputs": [],
   "source": [
    "# Unless a problem instructs differently, you may use any functions available from the following library imports\n",
    "import numpy as np\n",
    "from scipy import stats\n",
    "import time\n",
    "import matplotlib.pyplot as plt\n",
    "from scipy import linalg\n",
    "import warnings"
   ]
  },
  {
   "cell_type": "markdown",
   "id": "8d48de6e",
   "metadata": {},
   "source": [
    "# Problem 0 (required)\n",
    "\n",
    "Are you working with a partner to complete this assignment?  \n",
    "- If not, assign  the value of `None` into the variable `Partner`.\n",
    "- If so, assign the name of the person you worked with into the variable `Partner`.\n",
    "    - Format the name as `\"<First Name> <Last Name>\"` as a `str` type, e.g., \"Scott Schwartz\"."
   ]
  },
  {
   "cell_type": "code",
   "execution_count": null,
   "id": "cf78081a",
   "metadata": {
    "deletable": false
   },
   "outputs": [],
   "source": [
    "# Required: only worth points when not completed, in which case, you'll lose points\n",
    "Partner = #None\n",
    "# This cell will produce a runtime error until you assign a value to this variable"
   ]
  },
  {
   "cell_type": "markdown",
   "id": "d482b3e6",
   "metadata": {},
   "source": [
    "What was your contribution in completing the code for this assignments problems? Assign one of the following into each of the `Problem_X` variables below.\n",
    "\n",
    "- `\"I worked alone\"`\n",
    "- `\"I contributed more than my partner\"`\n",
    "- `\"My partner and I contributed equally\"`\n",
    "- `\"I contributed less than my partner\"`\n",
    "- `\"I did not contribute\"`"
   ]
  },
  {
   "cell_type": "code",
   "execution_count": null,
   "id": "6589b6a8",
   "metadata": {
    "deletable": false
   },
   "outputs": [],
   "source": [
    "# Required: only worth points when not completed, in which case, you'll lose points\n",
    "Problem_1 = #\"I worked alone\"\n",
    "Problem_2 = #\"I worked alone\"\n",
    "# This cell will produce a runtime error until you assign a value to this variable"
   ]
  },
  {
   "cell_type": "markdown",
   "id": "08adf26b",
   "metadata": {},
   "source": [
    "# Problem 1 (5 points)\n",
    "\n",
    "Complete the function `gram_schmidt(X, method)` and associated helpfer function `is_linearly_independent_columns` which conform to the docstring\n",
    "\n",
    "```\n",
    "\"\"\"\n",
    "    X       : p linearly independent column vectors\n",
    "              (np.array) [X[:,0], X[:,1], ... , X[:,p-1]]), X.shape=(n,p)\n",
    "              or raises a \"Linearly Dependent Columns\" ValueError \n",
    "\n",
    "    method  : (str) <\"modified\"|\"classic\">\n",
    "\n",
    "    returns : p orthonormalized column vectors, \n",
    "              (np.array) [Xtilde[:,0], Xtilde[:,1], ... , Xtilde[:,p-1]], Xtilde.shape=(n,p)\n",
    "\"\"\"\n",
    "```\n",
    "\n",
    "and returns the orthonormalized column vectors produced from lineraly independent column vectors using either\n",
    "\n",
    "  - `method=\"modified\"` for the  **\"Modified\" *Gram-Schmidt method***\n",
    "\n",
    "    > \\begin{align*}\n",
    "& \\text{for } (k = 0, ..., p-1) \\{ \\tilde x_k = x_k \\} \\text{ # not strictly necessary but the $\\tilde x_k$ notation emphasizes the ongoing updates}\\\\\n",
    "  & \\tilde x_0 = \\tilde x_0 (\\tilde x_0^T \\tilde x_0^{\\,})^{-\\frac{1}{2}}\\\\\n",
    "& \\text{for } (k = 1, ..., p-1) \\{ \\\\\n",
    "& \\quad\\quad \\text{for } (j = k, ..., p-1) \\{ \\\\\n",
    "  & \\quad\\quad\\quad \\quad \\tilde x_j = \\tilde x_j - \\tilde x_{k-1}(\\tilde x^{T}_{j} \\tilde x_{k-1}) \\text{ # this update requires updated $\\tilde x_j$ and $\\tilde x_{k-1}$ not just original $x_j$ and $x_{k-1}$}\\\\\n",
    "  & \\quad\\quad \\} \\\\\n",
    "  & \\quad\\quad \\tilde x_k = \\tilde x_k (\\tilde x_k^T \\tilde x_k^{\\,})^{-\\frac{1}{2}} \\text{ # normalize} \\\\\n",
    "  & \\} \\\\\n",
    "\\end{align*}\n",
    "\n",
    "  - `method=\"classic\"` for the  **\"Classical\" *Gram-Schmidt method***, where for $k = 0, ..., p-1$\n",
    "\n",
    "    \\begin{align*}\n",
    "    \\text{# initializing }\\tilde x_k\\; & \\text{is not required since $x_k$ is only updated to $\\tilde x_k$ once}\\\\\n",
    "    \\tilde x_k = {} & \\left(x_k - \\sum_{j=0}^{k-1} \\tilde x_j (\\tilde x^{T}_{j} x_{k})  \\right) \\\\\n",
    "  \\tilde x_k = {} & \\tilde x_k (\\tilde x_k^T \\tilde x_k^{\\,})^{-\\frac{1}{2}} \n",
    "  \\end{align*}\n",
    "\n",
    "*This problem is inspired by the **\"Modified\" and \"Classical\" Gram-Schmidt Transformations** section of Chapter 5.3 **Matrix Factorization** on pages 219-221 of James E. Gentle's **Computational Statistics** textbook.*"
   ]
  },
  {
   "cell_type": "code",
   "execution_count": 4,
   "id": "65e28ddd",
   "metadata": {
    "deletable": false
   },
   "outputs": [],
   "source": [
    "def is_linearly_independent_columns(X):\n",
    "    # hints: X.shape and np.linalg.matrix_rank\n",
    "    pass\n",
    "    \n",
    "\n",
    "def gram_schmidt(X, method=\"classic\"):\n",
    "    \n",
    "    \"\"\"\n",
    "    X       : p linearly independent column vectors\n",
    "              (np.array) [X[:,0], X[:,1], ... , X[:,p-1]]), X.shape=(n,p)\n",
    "              or raises a \"Linearly Dependent Columns\" ValueError \n",
    "\n",
    "    method  : (str) <\"modified\"|\"classic\">\n",
    "\n",
    "    returns : p orthonormalized column vectors, \n",
    "              (np.array) [Xtilde[:,0], Xtilde[:,1], ... , Xtilde[:,p-1]], Xtilde.shape=(n,p)\n",
    "    \"\"\"\n",
    "    \n",
    "    if not is_linearly_independent_columns(X):\n",
    "        raise ValueError('Linearly Dependent Columns')\n",
    "\n",
    "    # make sure the data type is float not int which won't work as this example demonstrates\n",
    "    X = np.array(X, dtype=float) # X=np.array([[1,1],[1,2]]); X[:,0] = np.array([0.5,.5])\n",
    "        \n",
    "    if method==\"modified\":\n",
    "        pass\n",
    "    elif method==\"classic\":\n",
    "        pass\n",
    "    else:\n",
    "        raise ValueError(\"Unknown Method\")"
   ]
  },
  {
   "cell_type": "markdown",
   "id": "72ecad38",
   "metadata": {},
   "source": [
    "## Hints\n",
    "\n",
    "- Consider how you can test if your function is working or not. E.g., you can make test data as \n",
    "\n",
    "  ```\n",
    "  from scipy import stats\n",
    "  np.random.seed(seed) # for some seed and some mu and sigma\n",
    "  X = stats.norm(loc=mu, scale=sigma).rvs(size=(n,n)) # and n\n",
    "  ```\n",
    "\n",
    "  and then check the following \"known answer\" situations for correctness:  \n",
    "  \n",
    "  - If `x1` and `x2` are ***orthogonal*** then what should `x1.dot(x2)` be?\n",
    "  - If `x1` is a ***normal vector*** then what should `x1.dot(x1)` be?\n",
    "  - What is happening if these computations are not exactly what you expected them to be?\n",
    "    \n",
    "    \n",
    "- Consider what the variables `mu` and `sigma` imply for the ***condition*** of the produced matrix `X`.\n",
    "\n",
    "    - The ***condition*** of the the matrix `X` for the problem `X.dot(b)` can be computed as `np.linalg.cond(X)`.\n",
    "\n",
    "- The two methods \"modified\" and \"classic\" have different numerical performance characteristics which you will explore in this exercise.\n",
    "\n",
    "    - The ***condition*** of the the matrix `X` as calculated above also drives the numerical performance of either version of the `gram_schmidt` function.   Examine different `X` and see how their ***condition*** affects these methods. \n",
    "    - Also consider what happens to $\\sum_{j=0}^{k-1} \\tilde x_j (\\tilde x^{T}_{j} x_{k})$ if the magnitude of one of the summands is not comparable to the rest.\n",
    "  \n",
    "\n",
    "- In `numpy` there are quite a few \"kinds\" of \"multiplications\", e.g., all of the following are useful for different contexts\n",
    "    - `x1.dot(x2)` \n",
    "    - `x1.T.dot(x2)` and `x1.T @ x2` \n",
    "    - `x1*x2` and `x1.T*x2` where `*` is elementwise multiplication with [broadcasting](https://numpy.org/doc/stable/user/basics.broadcasting.html), which is (quite cool but) not \"vector\" (inner \"dot\" product) multiplication.\n",
    "\n",
    "- While not strictly necessary, but perhaps useful for this exercise (and certainly critical for future assignments and coding challenges), note the following with respect to `np.array` objects:\n",
    "    - `X_ = X` and `X_ = X[0:]` (and variants) create a new variable name which accesses the same object... so if `X_` is changed, then so is `X`...\n",
    "    - `X_ = X.copy()` creates a new object rather than a new variable name pointing to the original object... so if this `X_` is now changed, then `X` will no longer be changed.    \n",
    "    - This is different than for `list` (non `np.array`) objects, where a new object can be created from both a  \"slice\" or a `.copy()`, i.e., \n",
    "    \n",
    "      > `X_ = X[0:] #= X.copy()`\n",
    "        \n",
    "      because a \"slice\" of a `list` produces a new `list` object; whereas, a \"slice\" of an `np.array` object creates a \"view\" and not a new `np.array` object.\n",
    "      \n",
    "      \n",
    "- Note (or confirm for yourself) that `0==-0` evaluates to `True`.\n",
    "\n",
    "\n",
    "- The following code addresses `np.array` \"multiplications\" and variable assignment topics (noted above)."
   ]
  },
  {
   "cell_type": "code",
   "execution_count": null,
   "id": "e0a81130",
   "metadata": {},
   "outputs": [],
   "source": [
    "learn_this = \"If you don't understand how `numpy` multiplications work\"\n",
    "or_lose_points = \"you won't be able to do this exercise correctly.\"\n",
    "print(learn_this)\n",
    "print(or_lose_points, end='\\n\\n')\n",
    "\n",
    "n = 5\n",
    "x1,x2 = np.ones(n),np.ones(n)\n",
    "print(\"x1.dot(x2)=\"+str(x1.dot(x2)))\n",
    "print(\"x1.dot(x2) works for x1 and x2 with shape \"+str(x1.shape), end='\\n\\n')\n",
    "   \n",
    "try:\n",
    "    x1,x2 = np.ones((n,1)),np.ones((n,1))\n",
    "    x1.dot(x2)\n",
    "except:\n",
    "    print(\"x1.dot(x2) did not work for x1 and x2 with shape \"+str(x1.shape), end='\\n\\n')\n",
    "    \n",
    "print(\"x1.T.dot(x2)=\"+str(x1.T.dot(x2)))\n",
    "print(\"x1.T.dot(x2) did work for x1 and x2 with shape \"+str(x1.shape), end='\\n\\n')\n",
    "\n",
    "print(\"x1.T@x2=\"+str(x1.T@x2))\n",
    "print(\"x1.T@x2 works for x1 and x2 with shape \"+str(x1.shape), end='\\n\\n')\n",
    "\n",
    "print(\"x1*x2=\"+str(x1*x2))\n",
    "print('x1*x2 \"works\" for x1 and x2 with shape '+str(x1.shape)+' but maybe not how you thought?', end='\\n\\n')\n",
    "\n",
    "print(\"x1.T*x2=\"+str(x1.T*x2))\n",
    "print('x1.T*x2 \"works\" for x1 and x2 with shape '+str(x1.shape)+' but maybe not how you thought?', end='\\n\\n\\n')"
   ]
  },
  {
   "cell_type": "code",
   "execution_count": null,
   "id": "b2cd91cd",
   "metadata": {},
   "outputs": [],
   "source": [
    "# Do you understand this well enough to do operations on non column matrices?\n",
    "n,m = 2,3\n",
    "x1,x2 = np.ones((n,m)),np.ones((n,m))\n",
    "# How do you do matrix multiplication? \n",
    "# How do you do the other matrix multiplication?\n",
    "# How do you do elementwise multiplication?\n",
    "# Remember that there's some interesting stuff that happens in numpy \n",
    "# as a result of \"broadcasting\": https://numpy.org/doc/stable/user/basics.broadcasting.html"
   ]
  },
  {
   "cell_type": "code",
   "execution_count": null,
   "id": "d1cdd798",
   "metadata": {},
   "outputs": [],
   "source": [
    "learn_this = \"If you don't understand how `numpy` variable assignments work\"\n",
    "or_lose_points = \"you will lose points at some point in this course.\"\n",
    "print(learn_this)\n",
    "print(or_lose_points, end='\\n\\n')\n",
    "X = np.zeros((2,2))\n",
    "print(X)\n",
    "X_ = X # does NOT create a new object\n",
    "X_[0,0] = 1\n",
    "print(X)\n",
    "print(\"X changed because X_ changed...\", end='\\n\\n')\n",
    "\n",
    "X_ = X[:] # does NOT create a new object\n",
    "print(X)\n",
    "X_[0,0] = -1\n",
    "print(X)\n",
    "print(\"X changed because X_ changed...\", end='\\n\\n')\n",
    "\n",
    "X_ = X[:,:] # does NOT create a new object\n",
    "print(X)\n",
    "X_[0,0] = 1\n",
    "print(X)\n",
    "print(\"X changed because X_ changed...\", end='\\n\\n')\n",
    "\n",
    "X_ = X.copy() # creates a new object\n",
    "print(X)\n",
    "X_[0,0] = -1\n",
    "print(X)\n",
    "print(\"Finally X does not change because X_ no longer references the same object as X...\", end='\\n\\n\\n')\n",
    "\n",
    "X_ = X*1 # creates a new object\n",
    "print(X)\n",
    "X_[0,0] = -1\n",
    "print(X)\n",
    "print(\"Again X does not change because X_ no longer references the same object as X...\", end='\\n\\n\\n')"
   ]
  },
  {
   "cell_type": "code",
   "execution_count": null,
   "id": "2568cdb6",
   "metadata": {},
   "outputs": [],
   "source": [
    "learn_this = \"Interestingly, `numpy` variable assignments work slightly differently than `list` variable assignments\"\n",
    "print(learn_this, end='\\n\\n')\n",
    "\n",
    "X = [1,2,3]\n",
    "X_ = X # does NOT create a new object\n",
    "print(X)\n",
    "X_[0] = 0\n",
    "print(X)\n",
    "print(\"X changed because X_ changed...\", end='\\n\\n')\n",
    "\n",
    "X_ = X[:] # creates a new object\n",
    "print(X)\n",
    "X_[0] = 1\n",
    "print(X)\n",
    "print(\"X does not change because X_ no longer references the same object as X\", end='\\n\\n')"
   ]
  },
  {
   "cell_type": "code",
   "execution_count": null,
   "id": "1a5f7d17",
   "metadata": {},
   "outputs": [],
   "source": [
    "# be careful about integers versus floats\n",
    "# the following won't work\n",
    "X = np.array([[1,1],[1,2]])\n",
    "X[:,0] = np.array([0.5,.5])\n",
    "print(X)\n",
    "\n",
    "# but this will\n",
    "X = np.array([[1,1],[1,2]], dtype=float)\n",
    "X[:,0] = np.array([0.5,.5])\n",
    "print(X)\n",
    "\n",
    "# and this will since the `1.` \n",
    "# turns the whole thing into `float` type\n",
    "X = np.array([[1.,1],[1,2]])\n",
    "X[:,0] = np.array([0.5,.5])\n",
    "print(X)"
   ]
  },
  {
   "cell_type": "markdown",
   "id": "3207afbf",
   "metadata": {},
   "source": [
    "### Problem 1 Questions 0-2 (3 points)\n",
    "\n",
    "The `gram_schmidt` function will be tested for inputs `X` and different `method` choices."
   ]
  },
  {
   "cell_type": "code",
   "execution_count": null,
   "id": "2e465315",
   "metadata": {},
   "outputs": [],
   "source": [
    "# Cell for scratch work\n",
    "\n",
    "# You are welcome to add as many new cells into this notebook as you would like.\n",
    "# Just don't have scratch work cells with runtime errors because \n",
    "# notebook cells are run sequentially for automated code testing.\n",
    "\n",
    "# Any cells included for scratch work that are no longer needed may be deleted so long as \n",
    "# - all the required functions are still defined and available when called\n",
    "# - no cells requiring variable assignments are deleted \n",
    "#    - as this causes their `cell ids` to be lost, but these `cell-ids` are required for automated code testing."
   ]
  },
  {
   "cell_type": "code",
   "execution_count": null,
   "id": "5ef0598a",
   "metadata": {},
   "outputs": [],
   "source": [
    "# Cell for scratch work\n"
   ]
  },
  {
   "cell_type": "code",
   "execution_count": 37,
   "id": "fcfcbbe3",
   "metadata": {
    "deletable": false
   },
   "outputs": [],
   "source": [
    "# 1 point [format: callable function f with signature f(X, method_string)]\n",
    "p1q0 = #gram_schmidt # i.e., assign the `gram_schmidt` function to `p1q0`\n",
    "# Uncommenting the code above correctly defines `p1q0` as a synonym for your `gram_schmidt` function.\n",
    "\n",
    "# This cell will produce a runtime error until the `p1q0` variable is assigned, e.g., the `gram_schmidt` function"
   ]
  },
  {
   "cell_type": "code",
   "execution_count": 38,
   "id": "2033f684",
   "metadata": {
    "deletable": false
   },
   "outputs": [],
   "source": [
    "# 1 point [format: callable function f with signature f(X)]\n",
    "p1q1 = lambda X: #gram_schmidt(X, 'modified') # i.e., assign the 'modified' method to `p1q1`\n",
    "# Uncommenting the code above correctly defines `p1q1(X)` to be synonymous with `gram_schmidt(X, 'modified')`\n",
    "\n",
    "# This cell will produce a runtime error until the variable `p1q1` is assigned, e.g., the function indicated"
   ]
  },
  {
   "cell_type": "markdown",
   "id": "201e0a9f",
   "metadata": {},
   "source": [
    "## `lambda X: gram_schmidt(X, 'modified')`?\n",
    "\n",
    "- `f = lambda x: g(x)` is equivalent to\n",
    "\n",
    "```\n",
    "def f(x):\n",
    "  return g(x)\n",
    "```\n",
    "   \n",
    "- `lambda x: <do something with x>` is a so-called ***anonymous*** function; though, above it is assigned to the variable `f` as a shortcut for the full function definition syntax, so it is no longer ***anonymous***.\n",
    "\n",
    "- `sorted(x, key = lambda x: -x)`, which is equivalent to `sorted(x, reverse=True)` for numeric ***iterable*** `x`, is a common ***anonymous*** function use case in which the ***anonymous*** function is temporary and disappears after use.\n",
    "- The lambda function here to explicitly demonstrate how the automated testing will be using your function."
   ]
  },
  {
   "cell_type": "code",
   "execution_count": 39,
   "id": "151571f3",
   "metadata": {
    "deletable": false
   },
   "outputs": [],
   "source": [
    "# 1 point [format: callable function f with signature f(X)]\n",
    "p1q2 = lambda X: #gram_schmidt(X, 'classic') # i.e., assign the 'classic' method to `p1q2`\n",
    "# Uncommenting the code above correctly defines `p1q2(X)` to be synonymous with `gram_schmidt(X, 'classic')`\n",
    "\n",
    "# This cell will produce a runtime error until variable `p1q2` is assigned, e.g., the function indicated"
   ]
  },
  {
   "cell_type": "markdown",
   "id": "e7bd7e0b",
   "metadata": {},
   "source": [
    "### Problem 1 Questions 3 (0.5 points)\n",
    "\n",
    "Order   \n",
    "\n",
    "- \"X\": `X = stats.norm(loc=1e10).rvs(size=(10,10))`\n",
    "- \"X_GSm\": `gram_schmidt(X, 'modified')` \n",
    "- \"X_GSc\": `gram_schmidt(X, 'classic')` \n",
    "\n",
    "by their ***condition*** (best to worst) computed with `np.linalg.cond`.\n",
    "\n",
    "- Include your run code or you may not receive credit for this problem."
   ]
  },
  {
   "cell_type": "code",
   "execution_count": null,
   "id": "ae90c4d3",
   "metadata": {},
   "outputs": [],
   "source": [
    "# Cell for scratch work\n",
    "\n",
    "# You are welcome to add as many new cells into this notebook as you would like.\n",
    "# Just don't have scratch work cells with runtime errors because \n",
    "# notebook cells are run sequentially for automated code testing.\n",
    "\n",
    "# Any cells included for scratch work that are no longer needed may be deleted so long as \n",
    "# - all the required functions are still defined and available when called\n",
    "# - no cells requiring variable assignments are deleted \n",
    "#    - as this causes their `cell ids` to be lost, but these `cell-ids` are required for automated code testing.\n"
   ]
  },
  {
   "cell_type": "code",
   "execution_count": null,
   "id": "3c729ced",
   "metadata": {},
   "outputs": [],
   "source": [
    "# Cell for scratch work\n"
   ]
  },
  {
   "cell_type": "code",
   "execution_count": 127,
   "id": "db84605a",
   "metadata": {
    "deletable": false
   },
   "outputs": [],
   "source": [
    "# 0.5 points [format: tuple of strings \"X\", \"X_GSm\", \"X_GSc\" ordered as `(<best>, <middle>, <worst>)`]\n",
    "p1q3 = #(\"\",\"\",\"\") # replace the empty strings with \"X\", \"X_GSm\", \"X_GSc\" ordered from best to worst condition\n",
    "# Uncommenting the line above will create the correct data structure so just correctly fill in each \"\"\n",
    "\n",
    "# This cell will produce a runtime error until the variable `p1q3` is assigned a value"
   ]
  },
  {
   "cell_type": "markdown",
   "id": "b8f43caf",
   "metadata": {},
   "source": [
    "### Problem 1 Question 4 (0.5 points)\n",
    "\n",
    "Compute each of the four `X_GS` ***orthogonalizations***  \n",
    "\n",
    "```\n",
    "np.random.seed(10)\n",
    "X = stats.norm(loc=1e5).rvs(size=(10,10))\n",
    "X_GSm_1e5 = gram_schmidt(X, 'modified')\n",
    "X_GSc_1e5 = gram_schmidt(X, 'classic')\n",
    "np.random.seed(10)\n",
    "X = stats.norm(loc=1e6).rvs(size=(10,10))\n",
    "X_GSm_1e6 = gram_schmidt(X, 'modified')\n",
    "X_GSc_1e6 = gram_schmidt(X, 'classic')\n",
    "```\n",
    "\n",
    "and determine how many of the four ***orthogonalizations*** fail when rounded to 3 decimal digits of ***precision***. I.e., determine for how many of the four `np.abs(np.round(X_GS.T@X_GS, 3))` does not look like it should. \n",
    "\n",
    "- Do not ask \"what it means for `np.abs(np.round(X_GS.T@X_GS, 3))` to look as it should?\"  That's for you to determine.\n",
    "- Include your run code or you may not receive credit for this problem."
   ]
  },
  {
   "cell_type": "code",
   "execution_count": null,
   "id": "1be3d311",
   "metadata": {},
   "outputs": [],
   "source": [
    "# Cell for scratch work\n",
    "\n",
    "# You are welcome to add as many new cells into this notebook as you would like.\n",
    "# Just do not leave in a state that will produce a runtime errors when notebook cells are run sequentially.\n",
    "\n",
    "# Any cells included for scratch work that are no longer needed may be deleted so long as \n",
    "# - all the required functions are still defined and available when called\n",
    "# - no cells requiring variable assignments are deleted.\n",
    "\n",
    "# None of this will not cause problems with `cell ids` assuming your versioning supports `cell ids`\n",
    "# (as UofT JupyterHub, UofT JupyterLab, an Google Colab will).\n"
   ]
  },
  {
   "cell_type": "code",
   "execution_count": null,
   "id": "96425b6d",
   "metadata": {},
   "outputs": [],
   "source": [
    "# Cell for scratch work\n"
   ]
  },
  {
   "cell_type": "code",
   "execution_count": 296,
   "id": "90e4626e",
   "metadata": {
    "deletable": false
   },
   "outputs": [],
   "source": [
    "# 0.5 points [format: integer, 0, 1, 2, 3, or 4]\n",
    "p1q4 = #<0, 1, 2, 3, 4> # the number of GS orthogonalizations that are visibly broken for `np.abs(np.round(GS, 3))`\n",
    "\n",
    "# This cell will produce a runtime error until the variable `p1q4` is assigned a value"
   ]
  },
  {
   "cell_type": "markdown",
   "id": "bdb9a0bc",
   "metadata": {},
   "source": [
    "### Problem 1 Questions 5 (1 point)\n",
    "\n",
    "Specify which of the following is the main cause of the difference in numerical accuracy between `gram_schmidt(X, 'modified')` and `gram_schmidt(X, 'classic')`.\n",
    "\n",
    "- \"They are computing mathematically distinct answers, one of which is better\"\n",
    "- \"The <modified|classical> updates incrementally orthogonalize just one vector pair at a time which is more accurate\"\n",
    "- \"The <modified|classical> updates orthogonalize based on a sum which is more accurate\"\n",
    "- \"The <modified|classical> method has less roundoff error since it has fewer operations\"\n",
    "\n",
    "> where the notation \"the <modified|classical> method\" will evaluate to either \"the modified method\" or \"the classical method\" in your submitted answer."
   ]
  },
  {
   "cell_type": "code",
   "execution_count": 129,
   "id": "2ed7917f",
   "metadata": {
    "deletable": false
   },
   "outputs": [],
   "source": [
    "# 1 point [format: string, matching one of the options available above \n",
    "p1q5 = #\"<replace this placeholder with the correct answer from the options above>\"\n",
    "# Uncommenting the line above is a string, but you need to fill it in with the correct option from above\n",
    "\n",
    "# This cell will produce a runtime error until the variable `p1q5` is assigned as value"
   ]
  },
  {
   "cell_type": "markdown",
   "id": "8ecad32d",
   "metadata": {},
   "source": [
    "# Problem 2 (5 points)\n",
    "\n",
    "Complete the function `cholesky_at_kth_step(A, k)` which, given appropriate input, returns the progress of the Cholesky \"inner product\" algorithm after step $k$ of the factorization:\n",
    "\n",
    "\\begin{align*}\n",
    "  & u_{00} = \\sqrt{a_{00}} && \\text{# this completes update step }k=0\\\\\n",
    "  & \\text{for }(j=1,\\cdots,n-1)\\{\\\\\n",
    "  & \\quad\\quad u_{0j} = \\frac{a_{0j}}{u_{00}} && \\text{# this completes update steps $k=1$ to }k=n-1\\\\\n",
    "  & \\} \\text{ # $O(n)$}\\\\\n",
    "  & \\text{for }(i=1,\\cdots, n-1)\\{ && \\text{# when this is first run}\\quad\\quad \\text{# the next iteration of the loop}\\quad\\quad\\text{etc.}\\\\\n",
    "  & \\quad\\quad u_{ii} = (a_{ii}- \\sum_{r=0}^{i-1} u^2_{ri})^{\\frac{1}{2}} && \\quad\\quad \\text{# this completes step }k=n\\quad\\quad \\text{# this completes step }k=2n-1\\quad\\quad\\text{etc.}\\\\\n",
    "  & \\quad\\quad \\text{for }(j=i+1,\\cdots,n-1)\\{&& \\text{# the first time this for loop is run}\\quad\\quad\\text{etc.}\\\\\n",
    "  & \\quad\\quad\\quad\\quad u_{ij} = (a_{ij} - \\sum_{r=0}^{i-1} u_{ri}u_{rj})/u_{ii} && \\quad\\quad\\quad\\quad\\text{# this completes step $k=n+1$ to }k=n + n-2\\quad\\quad\\text{etc.}\\\\\n",
    "  & \\quad\\quad \\} \\\\\n",
    "  & \\} \\text{ # $O(n^3)$ } && \\text{# as this is in fact three for loops in a nested structure}\n",
    "  \\end{align*}\n",
    "\n",
    "*This problem is inspired by the Algorithm 5.1 **Cholesky Factorization** in the **Cholesky Factorization** section of Chapter 5.3 **Matrix Factorization** on pages 218-219 of James E. Gentle's **Computational Statistics** textbook. [Errata Warning: the Cholesky decomposition is $A_{nn} = U_{nn}^TU_{nn}$ which is not clear from the $A_{nn} = L_{nn}U_{nn}$ specification Table 5.1 **Matrix Factorizations** on page 219; and the associated reference to page 216 is also wrong and should instead be to page 218.]*"
   ]
  },
  {
   "cell_type": "code",
   "execution_count": 111,
   "id": "3869f8ca",
   "metadata": {},
   "outputs": [],
   "source": [
    "def cholesky_at_kth_step(A, k):\n",
    "    \n",
    "    '''\n",
    "    <complete docstring>\n",
    "    '''\n",
    "    \n",
    "    #<raise appropriate `ValueError`s regarding inappropriate `A` and `k`>\n",
    "    #<regarding `k` only allow nonnegative integers from 0 to `K` which produce unique results>\n",
    "    \n",
    "    Qk = 0*A\n",
    "    #<complete \"inner product\" algorithm which stops after the kth step as described>\n",
    "    \n",
    "    return Qk"
   ]
  },
  {
   "cell_type": "markdown",
   "id": "d4cbc24f",
   "metadata": {},
   "source": [
    "## Hints\n",
    "\n",
    "- Note that everything (including $k$) in this problem is zero-based indexing starting at $0$ (so $0$ indexes the first element).\n",
    "  > This is of course the standard Python indexing so the above pseudocode will translate directly in to `numpy`.\n",
    "- Mimic the indexing with `i`, `j`, `r` in the pseudocode above so you don't use the same iterator variable for nested `for` loops.\n",
    "  > E.g., if all your `for` loops use variable `i` then each `for` loop will constantly overwrite and mess up `i` for the remaining `for` loops. \n",
    "- If you let the algorithm complete, you can confirm the correctness by comparing your result against `np.linalg.cholesky(A)`.\n",
    "\n",
    "\n",
    "- The function `np.linalg.eigvals(A)` will be useful for checking that input `A` meets the necessary requirements.\n",
    "\n",
    "- Here are some examples working with `np.array` objects that will be useful for coding up this decomposition if you understand them.\n",
    "\n",
    "    ```\n",
    "    A = np.diag(np.ones(3))+0.1\n",
    "    A.shape\n",
    "    A[0:2,0]**2\n",
    "    (A[0:2,0]**2).sum()\n",
    "    A[0:2,0].dot(A[0:2,1])\n",
    "    U = 0*A\n",
    "    U[0,0] = (A[0,0])**0.5\n",
    "    U.T.dot(U)\n",
    "    ```"
   ]
  },
  {
   "cell_type": "code",
   "execution_count": null,
   "id": "9d16a0a8",
   "metadata": {},
   "outputs": [],
   "source": [
    "# Cell for scratch work\n",
    "\n",
    "# You are welcome to add as many new cells into this notebook as you would like.\n",
    "# Just do not leave in a state that will produce a runtime errors when notebook cells are run sequentially.\n",
    "\n",
    "# Any cells included for scratch work that are no longer needed may be deleted so long as \n",
    "# - all the required functions are still defined and available when called\n",
    "# - no cells requiring variable assignments are deleted.\n",
    "\n",
    "# None of this will not cause problems with `cell ids` assuming your versioning supports `cell ids`\n",
    "# (as UofT JupyterHub, UofT JupyterLab, an Google Colab will).\n"
   ]
  },
  {
   "cell_type": "code",
   "execution_count": null,
   "id": "7c654d92",
   "metadata": {},
   "outputs": [],
   "source": [
    "# Cell for scratch work\n"
   ]
  },
  {
   "cell_type": "markdown",
   "id": "098c1537",
   "metadata": {},
   "source": [
    "## Problem 2 Question 0 (0.5 points)\n",
    "\n",
    "0. Cholesky decomposition applies to what type of matrices?\n",
    "\n",
    "    1. All matrices \n",
    "    2. Symmetric (square) matrices\n",
    "    3. Symmetric (square) positive definite matrices\n",
    "    4. Covariace matrices of multivariate normal distributions"
   ]
  },
  {
   "cell_type": "code",
   "execution_count": null,
   "id": "31b87d64",
   "metadata": {
    "deletable": false
   },
   "outputs": [],
   "source": [
    "# 0.5 points [format: `str` either \"A\" or \"B\" or \"C\" or \"D\" based on the choices above]\n",
    "p2q0 = #<\"A\"|\"B\"|\"C\"|\"D\"> \n",
    "# Uncomment the above and keep only either \"A\" or \"B\" or \"C\" or \"D\" or \"E\"\n",
    "\n",
    "# This cell will produce a runtime error until the `p2q0` variable is assigned a value"
   ]
  },
  {
   "cell_type": "markdown",
   "id": "cc086098",
   "metadata": {},
   "source": [
    "## Problem 2 Question 1 (0.5 points)\n",
    "\n",
    "1. For `A` with `A.shape` equal to `(n,n)`, the `k` input to `cholesky_at_kth_step(A,k)` may be a non-negative integer and will create unique output from the function for values as large as what? \n",
    "\n",
    "    1. `(n*(n-1))/2-1`\n",
    "    2. `n**2/2-1`\n",
    "    3. `(n*(n+1))/2-1`\n",
    "    4. `n**2-1`\n",
    "    \n",
    "***Hint***: the `-1` is because `k` is `0`-indexed."
   ]
  },
  {
   "cell_type": "code",
   "execution_count": null,
   "id": "4e09f35f",
   "metadata": {
    "deletable": false
   },
   "outputs": [],
   "source": [
    "# 0.5 points [format: `str` either \"A\" or \"B\" or \"C\" or \"D\" based on the choices above]\n",
    "p2q1 = #<\"A\"|\"B\"|\"C\"|\"D\"> \n",
    "# Uncomment the above and keep only either \"A\" or \"B\" or \"C\" or \"D\"\n",
    "\n",
    "# This cell will produce a runtime error until the `p2q1` variable is assigned a value"
   ]
  },
  {
   "cell_type": "markdown",
   "id": "94e30ce9",
   "metadata": {},
   "source": [
    "## Problem 2 Question 2 (1 point)\n",
    "\n",
    "2. Your docstring will be checked for appropriate sufficiency.\n",
    "\n",
    "> In addition to providing a high level statement of the purpose of a function, docstrings must indicate how to use the function (including types and restrictions on inputs) and the expected behavior of the returned output (and its type). Please see the provided functions defined in problems 1 and 2 above for examples of appropriate docstrings.\n",
    "\n",
    "- Remember that you can examine your docstring with `help(<f>)` and `<f>?` and `?<f>`."
   ]
  },
  {
   "cell_type": "code",
   "execution_count": 420,
   "id": "baea386e",
   "metadata": {
    "deletable": false
   },
   "outputs": [],
   "source": [
    "# 0.5 points [format: `str` exactly as demonstrated below]\n",
    "p2q2 = #cholesky_at_kth_step.__doc__\n",
    "# Uncomment the above to correctly assign you docstring to `p2q2` for examination.\n",
    "\n",
    "# This cell will produce a runtime error until the `p2q2` variable is assigned, e.g., the indicated string"
   ]
  },
  {
   "cell_type": "markdown",
   "id": "f8a85083",
   "metadata": {},
   "source": [
    "## Problem 2 Questions 3-5 (3 points)\n",
    "\n",
    "The `cholesky_at_kth_step` function will be tested for various inputs `A` and `k`.\n",
    "- You don't need to assign any variables for these questions: your `cholesky_at_kth_step` function will be called directly."
   ]
  },
  {
   "cell_type": "code",
   "execution_count": null,
   "id": "f941e7d3",
   "metadata": {},
   "outputs": [],
   "source": [
    "# Cell for scratch work\n",
    "\n",
    "# You are welcome to add as many new cells into this notebook as you would like.\n",
    "# Just do not leave in a state that will produce a runtime errors when notebook cells are run sequentially.\n",
    "\n",
    "# Any cells included for scratch work that are no longer needed may be deleted so long as \n",
    "# - all the required functions are still defined and available when called\n",
    "# - no cells requiring variable assignments are deleted.\n",
    "\n",
    "# None of this will not cause problems with `cell ids` assuming your versioning supports `cell ids`\n",
    "# (as UofT JupyterHub, UofT JupyterLab, an Google Colab will).\n"
   ]
  },
  {
   "cell_type": "code",
   "execution_count": null,
   "id": "d02bab6c",
   "metadata": {},
   "outputs": [],
   "source": [
    "# Cell for scratch work\n"
   ]
  }
 ],
 "metadata": {
  "celltoolbar": "Edit Metadata",
  "kernelspec": {
   "display_name": "Python 3 (ipykernel)",
   "language": "python",
   "name": "python3"
  },
  "language_info": {
   "codemirror_mode": {
    "name": "ipython",
    "version": 3
   },
   "file_extension": ".py",
   "mimetype": "text/x-python",
   "name": "python",
   "nbconvert_exporter": "python",
   "pygments_lexer": "ipython3",
   "version": "3.9.5"
  }
 },
 "nbformat": 4,
 "nbformat_minor": 5
}
